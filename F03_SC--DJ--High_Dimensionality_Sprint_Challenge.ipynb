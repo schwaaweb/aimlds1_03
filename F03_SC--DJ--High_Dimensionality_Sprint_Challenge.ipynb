{
  "nbformat": 4,
  "nbformat_minor": 0,
  "metadata": {
    "colab": {
      "name": "High Dimensionality Sprint Challenge.ipynb",
      "version": "0.3.2",
      "provenance": [],
      "collapsed_sections": []
    },
    "kernelspec": {
      "name": "python3",
      "display_name": "Python 3"
    }
  },
  "cells": [
    {
      "cell_type": "markdown",
      "metadata": {
        "id": "view-in-github",
        "colab_type": "text"
      },
      "source": [
        "[View in Colaboratory](https://colab.research.google.com/github/schwaaweb/aimlds1_03/blob/master/F03_SC--DJ--High_Dimensionality_Sprint_Challenge.ipynb)"
      ]
    },
    {
      "metadata": {
        "id": "8dtL-3V557G6",
        "colab_type": "text"
      },
      "cell_type": "markdown",
      "source": [
        "https://drive.google.com/file/d/1rv5qpvgUbfHc6WPfMqNI48ZsuUNOy4M6/view?usp=sharing\n",
        "\n",
        "# High Dimensionality Sprint Challenge\n",
        "\n",
        "High Dimensionality is characterized by the _Curse of Dimensionality_. Humans can visualize 2d and 3d, but not anything higher. How do we reason about data?\n",
        "\n",
        "High Dimensionality Objectives include:\n",
        "* Normalize a vector into a magnitude and unit vector\n",
        "* Compute L1 and L2 distances of a pair of vectors\n",
        "* Compute the distance between pairs of vectors and select the smallest"
      ]
    },
    {
      "metadata": {
        "id": "PMajVGoY54DR",
        "colab_type": "code",
        "colab": {}
      },
      "cell_type": "code",
      "source": [
        "# LAMBDA SCHOOL\n",
        "#\n",
        "# MACHINE LEARNING\n",
        "#\n",
        "# MIT LICENSE\n",
        "\n",
        "import numpy as np"
      ],
      "execution_count": 0,
      "outputs": []
    },
    {
      "metadata": {
        "id": "YUo0Gg2UbieJ",
        "colab_type": "text"
      },
      "cell_type": "markdown",
      "source": [
        "# 1. Normalize a vector into magnitude and unit vector"
      ]
    },
    {
      "metadata": {
        "id": "RuZFC7k8bnRu",
        "colab_type": "code",
        "colab": {
          "base_uri": "https://localhost:8080/",
          "height": 71
        },
        "outputId": "2d4f8763-2b3e-4f4a-fd6b-95a5708be01f"
      },
      "cell_type": "code",
      "source": [
        "v = np.array([17,7,5,2,1])\n",
        "\n",
        "def mag(x):\n",
        "  return np.sqrt(sum(i**2 for i in x))\n",
        "\n",
        "mag([17,7,5,2,1])\n",
        "\n",
        "# m = Magnitude of v\n",
        "m = np.linalg.norm(v)\n",
        "\n",
        "# v_u = unit vector of v such that u * v_u = v\n",
        "v_u = [x / m for x in v]\n",
        "\n",
        "\n",
        "print(m, mag([17,7,5,2,1]))\n",
        "print(v_u)\n"
      ],
      "execution_count": 21,
      "outputs": [
        {
          "output_type": "stream",
          "text": [
            "19.183326093250876 19.183326093250876\n",
            "[0.8861862597425678, 0.36490022459988086, 0.26064301757134345, 0.10425720702853739, 0.05212860351426869]\n"
          ],
          "name": "stdout"
        }
      ]
    },
    {
      "metadata": {
        "id": "sgNZ1QDCdErt",
        "colab_type": "text"
      },
      "cell_type": "markdown",
      "source": [
        "# 2. Compute the L1 and L2 distances of a pair of vectors\n",
        "\n",
        "Recall that the L1 distance is the \"manhattan\" distance, the sum of absolute values of a vector:\n",
        "\n",
        "$d_{v}^{L1} = \\sum{|v_i|}$\n",
        "\n",
        "The L2 distance or \"euclidean\" distance is the square root of the sum of the squares of a vector:\n",
        "\n",
        "$d_{v}^{L2} = \\sqrt{\\sum{v_i^2}}$"
      ]
    },
    {
      "metadata": {
        "id": "d__wWc1CdSv7",
        "colab_type": "code",
        "colab": {
          "base_uri": "https://localhost:8080/",
          "height": 51
        },
        "outputId": "e86e077b-face-4f04-9e75-ff647f91425e"
      },
      "cell_type": "code",
      "source": [
        "a = np.array([1,2,0,1,2,0,1,2])\n",
        "b = np.array([9,2,4,1,1,5,0,2])\n",
        "\n",
        "# l1 = the L1 distance between a and b\n",
        "l1 = np.linalg.norm((a-b), ord=1)\n",
        "\n",
        "print('l1: ', l1)\n",
        "\n",
        "# l1 = the L2 distance between a and b\n",
        "l2 = np.linalg.norm((a-b), ord=2)\n",
        "\n",
        "print('l2: ',l2)\n",
        "      "
      ],
      "execution_count": 28,
      "outputs": [
        {
          "output_type": "stream",
          "text": [
            "l1:  19.0\n",
            "l2:  10.344080432788601\n"
          ],
          "name": "stdout"
        }
      ]
    },
    {
      "metadata": {
        "id": "mlKMlSmreNvk",
        "colab_type": "text"
      },
      "cell_type": "markdown",
      "source": [
        "# 3. Compute the distance between pairs of vectors and select the smallest\n",
        "\n",
        "For this sprint challenge goal, you are _NOT_ required to compute the pairwise distance of every point in a set. Instead, find the row $i$ with the shortest distance between $x_i$ and $y_i$, two separate sets of $2d$ points."
      ]
    },
    {
      "metadata": {
        "id": "N33-3PgVeIkR",
        "colab_type": "code",
        "colab": {
          "base_uri": "https://localhost:8080/",
          "height": 493
        },
        "outputId": "4db43422-4586-4b2a-d92e-702b5e05eea2"
      },
      "cell_type": "code",
      "source": [
        "x = np.array([[10.,  2.,  0.,  3., -4.,  1., -5., 10.,  7.,  6.],\n",
        "              [-4.,  4., -0.,  4., -9.,  1., -2.,  2.,  1., -1.]]).T\n",
        "\n",
        "y = np.array([[-7., 10., -8.,  7., -5., -4.,  0.,  7., -9., -2.],\n",
        "              [-7.,  2.,  4.,  7., -5., 10., -2., -2.,  1., -2.]]).T\n",
        "\n",
        "# Your code to find the pair of points at row i with the shortest distance between them \n",
        "\n",
        "for i in range(len(x)):\n",
        "    print(x[i],y[i],np.linalg.norm((x[i]-y[i]), ord=2))\n",
        "\n",
        "def get_nearest_pair(x,y, order):\n",
        "    smallest_distance = 111.1\n",
        "    index = len(x)+1\n",
        "    for i in range(len(x)):\n",
        "      distance = np.linalg.norm(x[i]-y[i], ord=order)\n",
        "      if(distance < smallest_distance):\n",
        "          smallest_distance = distance\n",
        "          index = i\n",
        "          print(smallest_distance, index)\n",
        "      else:\n",
        "          print(smallest_distance, index)\n",
        "    return print('\\n\\n','i is: ', index, '\\n',\n",
        "        'd is: ', np.linalg.norm((x[index]-y[index]), ord=order), '\\n',\n",
        "         'The actual set of points are: ', x[index],y[index], '\\n',\n",
        "    )\n",
        "\n",
        " \n",
        "    \n",
        "\n",
        "print('\\n')    \n",
        "get_nearest_pair(x,y,2)\n",
        "\n",
        "# i\n",
        "#i = None\n",
        "\n",
        "# The distance between x_i and y_i\n",
        "#d = None"
      ],
      "execution_count": 65,
      "outputs": [
        {
          "output_type": "stream",
          "text": [
            "[10. -4.] [-7. -7.] 17.26267650163207\n",
            "[2. 4.] [10.  2.] 8.246211251235321\n",
            "[ 0. -0.] [-8.  4.] 8.94427190999916\n",
            "[3. 4.] [7. 7.] 5.0\n",
            "[-4. -9.] [-5. -5.] 4.123105625617661\n",
            "[1. 1.] [-4. 10.] 10.295630140987\n",
            "[-5. -2.] [ 0. -2.] 5.0\n",
            "[10.  2.] [ 7. -2.] 5.0\n",
            "[7. 1.] [-9.  1.] 16.0\n",
            "[ 6. -1.] [-2. -2.] 8.06225774829855\n",
            "\n",
            "\n",
            "17.26267650163207 0\n",
            "8.246211251235321 1\n",
            "8.246211251235321 1\n",
            "5.0 3\n",
            "4.123105625617661 4\n",
            "4.123105625617661 4\n",
            "4.123105625617661 4\n",
            "4.123105625617661 4\n",
            "4.123105625617661 4\n",
            "4.123105625617661 4\n",
            "\n",
            "\n",
            " i is:  4 \n",
            " d is:  4.123105625617661 \n",
            " The actual set of points are:  [-4. -9.] [-5. -5.] \n",
            "\n"
          ],
          "name": "stdout"
        }
      ]
    },
    {
      "metadata": {
        "id": "Zin8HpNfyOp3",
        "colab_type": "code",
        "colab": {}
      },
      "cell_type": "code",
      "source": [
        ""
      ],
      "execution_count": 0,
      "outputs": []
    },
    {
      "metadata": {
        "id": "E6Dxs1y-4wRT",
        "colab_type": "code",
        "colab": {}
      },
      "cell_type": "code",
      "source": [
        ""
      ],
      "execution_count": 0,
      "outputs": []
    }
  ]
}