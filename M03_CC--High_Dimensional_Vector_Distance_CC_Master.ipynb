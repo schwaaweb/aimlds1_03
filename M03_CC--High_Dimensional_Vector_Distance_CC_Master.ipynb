{
  "nbformat": 4,
  "nbformat_minor": 0,
  "metadata": {
    "colab": {
      "name": "High Dimensional Vector Distance CC - Master.ipynb",
      "version": "0.3.2",
      "provenance": [],
      "collapsed_sections": []
    },
    "kernelspec": {
      "name": "python3",
      "display_name": "Python 3"
    }
  },
  "cells": [
    {
      "cell_type": "markdown",
      "metadata": {
        "id": "view-in-github",
        "colab_type": "text"
      },
      "source": [
        "[View in Colaboratory](https://colab.research.google.com/github/schwaaweb/aimlds1_03/blob/master/M03_CC--High_Dimensional_Vector_Distance_CC_Master.ipynb)"
      ]
    },
    {
      "metadata": {
        "id": "luCg81YEjaP1",
        "colab_type": "code",
        "colab": {}
      },
      "cell_type": "code",
      "source": [
        "import numpy as np\n",
        "import matplotlib.pyplot as plt"
      ],
      "execution_count": 0,
      "outputs": []
    },
    {
      "metadata": {
        "id": "k3P7Si8cj37a",
        "colab_type": "text"
      },
      "cell_type": "markdown",
      "source": [
        "First, define a function that takes two inputs (a mean and a standard deviation) and spits out a random number.\n",
        "The number should be generated randomly from a normal distribution with that mean and that standard deviation. See [numpy.random.normal](https://docs.scipy.org/doc/numpy/reference/generated/numpy.random.normal.html), though, implementing the PDF for a normal distribution is a good exercise if you finish early."
      ]
    },
    {
      "metadata": {
        "id": "wMkZOsQ2kUpX",
        "colab_type": "code",
        "colab": {}
      },
      "cell_type": "code",
      "source": [
        "def rand_val(mean, stdev):\n",
        "    return None\n",
        "    ##################\n",
        "    # Your Code Here #\n",
        "    ##################"
      ],
      "execution_count": 0,
      "outputs": []
    },
    {
      "metadata": {
        "id": "nayMEH_3nRZC",
        "colab_type": "text"
      },
      "cell_type": "markdown",
      "source": [
        "Now define a function that takes in a mean, a standard deviation, and a number n, and returns a numpy vector with n components.\n",
        "The components should be randomly generated from a normal distribution with that mean and standard deviation"
      ]
    },
    {
      "metadata": {
        "id": "ExAJD2CxngF1",
        "colab_type": "code",
        "colab": {}
      },
      "cell_type": "code",
      "source": [
        "def rand_vec(mean, stdev, n):\n",
        "    return None\n",
        "    ##################\n",
        "    # Your Code Here #\n",
        "    ##################"
      ],
      "execution_count": 0,
      "outputs": []
    },
    {
      "metadata": {
        "id": "FdU1-hoOsyXz",
        "colab_type": "text"
      },
      "cell_type": "markdown",
      "source": [
        "Recall that there are many ways to compute the distance between two vectors. However you wish to do so, write a function that takes in\n",
        "two vectors and returns the distance between them. Since this function only makes sense if the two vectors have the same number of\n",
        "components, this function should return -1 if the two vectors live in different numbers of dimensions"
      ]
    },
    {
      "metadata": {
        "id": "F6OKPxP8nvFn",
        "colab_type": "code",
        "colab": {}
      },
      "cell_type": "code",
      "source": [
        "def vec_dist(vecA, vecB):\n",
        "    return None\n",
        "    ##################\n",
        "    # Your Code Here #\n",
        "    ##################"
      ],
      "execution_count": 0,
      "outputs": []
    },
    {
      "metadata": {
        "id": "tEPgA2qHuaFT",
        "colab_type": "text"
      },
      "cell_type": "markdown",
      "source": [
        "From here on out, every component you randomly generate should come from a normal distribution centered at 0 with standard\n",
        "deviation 1. With that in mind, write a function that takes in a number n (the number of dimensions), creates two random\n",
        "vectors in n-dimensional space, calculates the distance between them, and returns that distance."
      ]
    },
    {
      "metadata": {
        "id": "8dAXAmjyuZGm",
        "colab_type": "code",
        "colab": {}
      },
      "cell_type": "code",
      "source": [
        "def rand_vec_dist(n):\n",
        "    return None\n",
        "    ##################\n",
        "    # Your Code Here #\n",
        "    ##################"
      ],
      "execution_count": 0,
      "outputs": []
    },
    {
      "metadata": {
        "id": "MuRwge4GvZrS",
        "colab_type": "text"
      },
      "cell_type": "markdown",
      "source": [
        "Using what you've made so far, what is the average distance between two points in 1-dimensional space? In other words, between\n",
        "two regular old floating point numbers with mean 0 and standard deviation 1. After you calculate this, store it as the first\n",
        "component in a Pythin list named average_dist_list."
      ]
    },
    {
      "metadata": {
        "id": "-xBiAWMHvw3h",
        "colab_type": "code",
        "colab": {
          "base_uri": "https://localhost:8080/",
          "height": 34
        },
        "outputId": "ccdcd419-85cf-47ca-9c3d-5fe6bf147f9e"
      },
      "cell_type": "code",
      "source": [
        "def average_dist_calculator(n, trials):\n",
        "    return None\n",
        "    ##################\n",
        "    # Your Code Here #\n",
        "    ##################\n",
        "average_dist_list = []\n",
        "print(average_dist_list)"
      ],
      "execution_count": 0,
      "outputs": [
        {
          "output_type": "stream",
          "text": [
            "[]\n"
          ],
          "name": "stdout"
        }
      ]
    },
    {
      "metadata": {
        "id": "8mPH39jfzLM4",
        "colab_type": "text"
      },
      "cell_type": "markdown",
      "source": [
        "What's the average distance between two points in 2-dimensional space? What about 3? Keep calculating these average distances and\n",
        "appending them to average_dist_list up through 200-dimensional space."
      ]
    },
    {
      "metadata": {
        "id": "dxHLm6J1wMwP",
        "colab_type": "code",
        "colab": {
          "base_uri": "https://localhost:8080/",
          "height": 34
        },
        "outputId": "3d843ecd-308b-473c-f682-a97ba2358fbe"
      },
      "cell_type": "code",
      "source": [
        "##################\n",
        "# Your Code Here #\n",
        "##################\n",
        "print(average_dist_list)"
      ],
      "execution_count": 0,
      "outputs": [
        {
          "output_type": "stream",
          "text": [
            "[]\n"
          ],
          "name": "stdout"
        }
      ]
    },
    {
      "metadata": {
        "id": "t_DED4x70zMV",
        "colab_type": "code",
        "colab": {
          "base_uri": "https://localhost:8080/",
          "height": 347
        },
        "outputId": "82f21134-4fe5-4051-900f-19787f0f22c6"
      },
      "cell_type": "code",
      "source": [
        "plt.plot(np.arange(0,0),average_dist_list);"
      ],
      "execution_count": 0,
      "outputs": [
        {
          "output_type": "display_data",
          "data": {
            "image/png": "[encoded data removed]",
            "text/plain": [
              "<matplotlib.figure.Figure at 0x7f6e708e2b38>"
            ]
          },
          "metadata": {
            "tags": []
          }
        }
      ]
    },
    {
      "metadata": {
        "id": "urd9Ficj4axm",
        "colab_type": "text"
      },
      "cell_type": "markdown",
      "source": [
        "As the number of dimensions n grows larger and larger, approximately how does the average distance grow?\n",
        "\n",
        "It should be well-approximated by the function f(n) = c*n^p for some numbers c and p. However you choose to do so, find the values of c and p."
      ]
    },
    {
      "metadata": {
        "id": "YBVLh9gM16kI",
        "colab_type": "code",
        "colab": {}
      },
      "cell_type": "code",
      "source": [
        ""
      ],
      "execution_count": 0,
      "outputs": []
    }
  ]
}