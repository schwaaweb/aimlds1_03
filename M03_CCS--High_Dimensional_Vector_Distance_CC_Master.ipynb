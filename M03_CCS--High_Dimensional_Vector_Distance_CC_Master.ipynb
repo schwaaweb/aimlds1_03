{
  "nbformat": 4,
  "nbformat_minor": 0,
  "metadata": {
    "colab": {
      "name": "Copy of High Dimensional Vector Distance CC - Master.ipynb",
      "version": "0.3.2",
      "provenance": [],
      "collapsed_sections": []
    },
    "kernelspec": {
      "name": "python3",
      "display_name": "Python 3"
    }
  },
  "cells": [
    {
      "cell_type": "markdown",
      "metadata": {
        "id": "view-in-github",
        "colab_type": "text"
      },
      "source": [
        "[View in Colaboratory](https://colab.research.google.com/github/schwaaweb/aimlds1_03/blob/master/M03_CCS--High_Dimensional_Vector_Distance_CC_Master.ipynb)"
      ]
    },
    {
      "metadata": {
        "id": "luCg81YEjaP1",
        "colab_type": "code",
        "colab": {}
      },
      "cell_type": "code",
      "source": [
        "import numpy as np\n",
        "import matplotlib.pyplot as plt"
      ],
      "execution_count": 0,
      "outputs": []
    },
    {
      "metadata": {
        "id": "k3P7Si8cj37a",
        "colab_type": "text"
      },
      "cell_type": "markdown",
      "source": [
        "First, define a function that takes two inputs (a mean and a standard deviation) and spits out a random number.\n",
        "The number should be generated randomly from a normal distribution with that mean and that standard deviation. See [numpy.random.normal](https://docs.scipy.org/doc/numpy/reference/generated/numpy.random.normal.html), though, implementing the PDF for a normal distribution is a good exercise if you finish early."
      ]
    },
    {
      "metadata": {
        "id": "wMkZOsQ2kUpX",
        "colab_type": "code",
        "colab": {}
      },
      "cell_type": "code",
      "source": [
        "def rand_val(mean, stdev):\n",
        "    return np.random.normal(mean, stdev)"
      ],
      "execution_count": 0,
      "outputs": []
    },
    {
      "metadata": {
        "id": "nayMEH_3nRZC",
        "colab_type": "text"
      },
      "cell_type": "markdown",
      "source": [
        "Now define a function that takes in a mean, a standard deviation, and a number n, and returns a numpy vector with n components.\n",
        "The components should be randomly generated from a normal distribution with that mean and standard deviation"
      ]
    },
    {
      "metadata": {
        "id": "ExAJD2CxngF1",
        "colab_type": "code",
        "colab": {
          "base_uri": "https://localhost:8080/",
          "height": 121
        },
        "outputId": "ceb1d72b-9178-4dd3-c41c-933d5ba67b0d"
      },
      "cell_type": "code",
      "source": [
        "def rand_vec(mean, stdev, n):\n",
        "    points = []\n",
        "    for i in range(n):\n",
        "        points.append(rand_val(mean,stdev))\n",
        "    return np.array(points)\n",
        "    #return np.random.normal(mean,stdev,n)\n",
        "\n",
        "# Test of .ndim\n",
        "# Test of .shape\n",
        "# vec_dist return result\n",
        "\n",
        "x1 = rand_vec(0,1,1)\n",
        "x2 = rand_vec(0,1,2)\n",
        "y1 = np.array([[1],[0]])\n",
        "{}\n",
        "[ 1 ]\n",
        "[ 0 ]\n",
        "\n",
        "print(y1.ndim)\n",
        "print(y1.shape)\n",
        "print(x1.ndim)\n",
        "print(x1.shape)\n",
        "print(x2.ndim)\n",
        "print(x2.shape)"
      ],
      "execution_count": 0,
      "outputs": [
        {
          "output_type": "stream",
          "text": [
            "2\n",
            "(2, 1)\n",
            "1\n",
            "(1,)\n",
            "1\n",
            "(2,)\n"
          ],
          "name": "stdout"
        }
      ]
    },
    {
      "metadata": {
        "id": "FdU1-hoOsyXz",
        "colab_type": "text"
      },
      "cell_type": "markdown",
      "source": [
        "Recall that there are many ways to compute the distance between two vectors. However you wish to do so, write a function that takes in\n",
        "two vectors and returns the distance between them. Since this function only makes sense if the two vectors have the same number of\n",
        "components, this function should return -1 if the two vectors live in different numbers of dimensions"
      ]
    },
    {
      "metadata": {
        "id": "F6OKPxP8nvFn",
        "colab_type": "code",
        "colab": {}
      },
      "cell_type": "code",
      "source": [
        "def vec_dist(vecA, vecB):\n",
        "    if(len(vecA) != len(vecB)):\n",
        "        return -1\n",
        "    return np.sqrt(np.sum((vecA - vecB)**2))\n"
      ],
      "execution_count": 0,
      "outputs": []
    },
    {
      "metadata": {
        "id": "tEPgA2qHuaFT",
        "colab_type": "text"
      },
      "cell_type": "markdown",
      "source": [
        "From here on out, every component you randomly generate should come from a normal distribution centered at 0 with standard\n",
        "deviation 1. With that in mind, write a function that takes in a number n (the number of dimensions), creates two random\n",
        "vectors in n-dimensional space, calculates the distance between them, and returns that distance."
      ]
    },
    {
      "metadata": {
        "id": "8dAXAmjyuZGm",
        "colab_type": "code",
        "colab": {}
      },
      "cell_type": "code",
      "source": [
        "def rand_vec_dist(n):\n",
        "    vecA = rand_vec(0,1,n)\n",
        "    vecB = rand_vec(0,1,n)\n",
        "    return vec_dist(vecA,vecB)"
      ],
      "execution_count": 0,
      "outputs": []
    },
    {
      "metadata": {
        "id": "MuRwge4GvZrS",
        "colab_type": "text"
      },
      "cell_type": "markdown",
      "source": [
        "Using what you've made so far, what is the average distance between two points in 1-dimensional space? In other words, between\n",
        "two regular old floating point numbers with mean 0 and standard deviation 1. After you calculate this, store it as the first\n",
        "component in a Python list named average_dist_list."
      ]
    },
    {
      "metadata": {
        "id": "-xBiAWMHvw3h",
        "colab_type": "code",
        "colab": {
          "base_uri": "https://localhost:8080/",
          "height": 34
        },
        "outputId": "fccf1011-8ae5-468b-ee0c-cf8456ec4935"
      },
      "cell_type": "code",
      "source": [
        "def average_dist_calculator(n, trials):\n",
        "    avg_dist = 0\n",
        "    for i in range(trials):\n",
        "         avg_dist = avg_dist + rand_vec_dist(n)\n",
        "    return avg_dist / trials\n",
        "average_dist_list = [average_dist_calculator(1,1000)]\n",
        "\n",
        "print(average_dist_calculator(2,1000))"
      ],
      "execution_count": 0,
      "outputs": [
        {
          "output_type": "stream",
          "text": [
            "1.773764523014808\n"
          ],
          "name": "stdout"
        }
      ]
    },
    {
      "metadata": {
        "id": "8mPH39jfzLM4",
        "colab_type": "text"
      },
      "cell_type": "markdown",
      "source": [
        "What's the average distance between two points in 2-dimensional space? What about 3? Keep calculating these average distances and\n",
        "appending them to average_dist_list up through 200-dimensional space."
      ]
    },
    {
      "metadata": {
        "id": "dxHLm6J1wMwP",
        "colab_type": "code",
        "colab": {
          "base_uri": "https://localhost:8080/",
          "height": 54
        },
        "outputId": "71a849dc-0e0d-4daa-f7e4-99bce419ab5c"
      },
      "cell_type": "code",
      "source": [
        "for i in np.arange(2,201):\n",
        "    average_dist_list.append(average_dist_calculator(i,100))\n",
        "\n",
        "print(average_dist_list)"
      ],
      "execution_count": 0,
      "outputs": [
        {
          "output_type": "stream",
          "text": [
            "[1.1454107453323545, 1.6927004549301174, 2.2244114094969762, 2.553095063503152, 3.0231391011638094, 3.3759701240740707, 3.616766443422568, 3.8953863191628555, 4.136081242516317, 4.442834974367411, 4.52427370031383, 4.906537565025243, 5.024558426207375, 5.2774413692281055, 5.435644548072092, 5.4754773342578575, 5.849308265071326, 5.984879845750623, 6.154799870937101, 6.226272048599125, 6.327164032758926, 6.624526450991383, 6.726130005204601, 6.863783933008449, 7.030081302160149, 7.068522089075272, 7.415376175175263, 7.493750424188285, 7.638001837311155, 7.7704034030509295, 7.649890554873172, 7.8502603111093014, 7.995248518719877, 8.09953591073196, 8.358592931708003, 8.411380482633435, 8.609738446684538, 8.649424907310891, 8.745293586232567, 8.941352018094065, 9.04913151671861, 9.038482826261777, 9.2415240281841, 9.332464081867956, 9.41294504238133, 9.494541066162386, 9.439681100404249, 9.856836122012814, 9.943958865818441, 10.014701406740707, 9.859774527839797, 10.315314514922356, 10.339483452697948, 10.334937991944399, 10.431629610651491, 10.500450368927348, 10.499582919986826, 10.837834634451312, 10.83608498754166, 10.709774832230508, 10.88233123511166, 11.00561274617225, 11.211074180288199, 11.32330225179556, 11.1740869566899, 11.402726514730908, 11.688233511448972, 11.783594423768852, 11.823476393564649, 11.862170118071514, 11.74610240444376, 12.136056791061327, 11.952501332086536, 12.209735239356299, 12.216688166411013, 12.247358213720185, 12.505739561069783, 12.350434847509934, 12.478707871989327, 12.528904528614284, 12.907595118893623, 12.767725495505474, 12.848171034414488, 12.978140060114113, 12.918418744168262, 13.009592756341705, 13.157019589922573, 13.167751420650314, 13.378974711650708, 13.369420405344323, 13.442621573972918, 13.681005482164512, 13.801136018769869, 13.676879522816675, 13.739101025494755, 13.685831470854566, 13.946868419954123, 14.063524272488111, 14.038639574971612, 14.06427403208425, 14.21637345384812, 14.38534666398166, 14.320403451555771, 14.441433861691443, 14.337891208882818, 14.464922850504912, 14.613572845870507, 14.706763464718367, 14.619561155878262, 14.92086068169915, 14.843473457783311, 14.943514400392804, 15.063387207053108, 15.115349966931312, 15.090589923495152, 15.03463789947776, 15.407500593095149, 15.338277387292267, 15.385843015546, 15.501270454831, 15.394441083044278, 15.60928009152604, 15.624319604701508, 15.663426742717801, 15.68023257685444, 15.756339605270634, 15.961238078885867, 15.959905434279118, 16.11008501128806, 15.91809684228556, 16.106283867033973, 16.159706094077624, 16.148526454832822, 16.365920530051334, 16.207169845991107, 16.417909323398614, 16.599912715771133, 16.49510144142804, 16.755050170243106, 16.754220924513, 17.086216520488207, 16.832249800396095, 16.848194648231708, 16.90651661218436, 16.99071182603133, 17.00066504430522, 17.018730477837188, 17.00073798582168, 17.237002702609864, 17.331493448795506, 17.402287485398375, 17.525022944223746, 17.41882900293515, 17.523498284167808, 17.633259099055866, 17.628978054478566, 17.748964172137924, 17.643351716259716, 17.803848337637874, 17.86479911271316, 17.93584708746379, 18.10503565156012, 18.13146829185312, 17.991388328938417, 18.248225948723046, 18.163474242655965, 18.136947685106872, 18.42276347795455, 18.41992727655603, 18.50175076523793, 18.484572881132866, 18.38254370423898, 18.491420356960187, 18.828376367606182, 18.670464380044596, 18.623198788372914, 18.806903590456002, 18.87876263243013, 18.85465226479442, 18.93428231588946, 18.892270245064324, 19.010034106113395, 19.077161991200295, 19.065957966132117, 19.198104332429605, 19.225908679417476, 19.31950397407563, 19.31046967266924, 19.35893162729219, 19.50274153066363, 19.54897493993354, 19.654637210189478, 19.74801387440913, 19.67395455107464, 19.750935052477836, 19.802848769051785, 19.744821660329333, 19.826594914785826, 19.988026808905328, 19.910849170695325]\n"
          ],
          "name": "stdout"
        }
      ]
    },
    {
      "metadata": {
        "id": "t_DED4x70zMV",
        "colab_type": "code",
        "colab": {
          "base_uri": "https://localhost:8080/",
          "height": 347
        },
        "outputId": "0bce8748-8323-40b5-e3d3-22d13980617c"
      },
      "cell_type": "code",
      "source": [
        "plt.plot(np.arange(1,201),average_dist_list);"
      ],
      "execution_count": 0,
      "outputs": [
        {
          "output_type": "display_data",
          "data": {
            "image/png": "[encoded data removed]",
            "text/plain": [
              "<matplotlib.figure.Figure at 0x7f6e6ef0bf60>"
            ]
          },
          "metadata": {
            "tags": []
          }
        }
      ]
    },
    {
      "metadata": {
        "id": "urd9Ficj4axm",
        "colab_type": "text"
      },
      "cell_type": "markdown",
      "source": [
        "As the number of dimensions n grows larger and larger, approximately how does the average distance grow?\n",
        "\n",
        "It should be well-approximated by the function f(n) = c*n^p for some numbers c and p. However you choose to do so, find the values of c and p."
      ]
    },
    {
      "metadata": {
        "id": "YBVLh9gM16kI",
        "colab_type": "code",
        "colab": {
          "base_uri": "https://localhost:8080/",
          "height": 364
        },
        "outputId": "6b9f0676-5cc2-4b01-a28f-b9bbed95d3ef"
      },
      "cell_type": "code",
      "source": [
        "plt.plot(np.arange(1,201),average_dist_list);\n",
        "plt.plot(np.arange(1,201),1 * np.arange(1,201) ** (1/2))\n",
        "plt.plot(np.arange(1,201),1.5 * np.arange(1,201) ** (1/2))\n",
        "plt.plot(np.arange(1,201),1.414 * np.arange(1,201) ** (1/2),'y')"
      ],
      "execution_count": 0,
      "outputs": [
        {
          "output_type": "execute_result",
          "data": {
            "text/plain": [
              "[<matplotlib.lines.Line2D at 0x7f6e6ef6b400>]"
            ]
          },
          "metadata": {
            "tags": []
          },
          "execution_count": 69
        },
        {
          "output_type": "display_data",
          "data": {
            "image/png": "[encoded data removed]",
            "text/plain": [
              "<matplotlib.figure.Figure at 0x7f6e70884b70>"
            ]
          },
          "metadata": {
            "tags": []
          }
        }
      ]
    },
    {
      "metadata": {
        "id": "cxMJWon0VcYi",
        "colab_type": "code",
        "colab": {}
      },
      "cell_type": "code",
      "source": [
        ""
      ],
      "execution_count": 0,
      "outputs": []
    }
  ]
}