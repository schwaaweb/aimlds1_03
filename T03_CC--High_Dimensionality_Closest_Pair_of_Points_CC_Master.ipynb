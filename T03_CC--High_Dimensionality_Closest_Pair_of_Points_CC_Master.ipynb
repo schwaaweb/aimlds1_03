{
  "nbformat": 4,
  "nbformat_minor": 0,
  "metadata": {
    "colab": {
      "name": "High Dimensionality Closest Pair of Points CC - Master.ipynb",
      "version": "0.3.2",
      "provenance": [],
      "collapsed_sections": []
    },
    "kernelspec": {
      "name": "python3",
      "display_name": "Python 3"
    }
  },
  "cells": [
    {
      "cell_type": "markdown",
      "metadata": {
        "id": "view-in-github",
        "colab_type": "text"
      },
      "source": [
        "[View in Colaboratory](https://colab.research.google.com/github/schwaaweb/aimlds1_03/blob/master/T03_CC--High_Dimensionality_Closest_Pair_of_Points_CC_Master.ipynb)"
      ]
    },
    {
      "metadata": {
        "id": "ZgPDaAZ-3YVy",
        "colab_type": "text"
      },
      "cell_type": "markdown",
      "source": [
        "# Closest Pair of Points Coding Challenge"
      ]
    },
    {
      "metadata": {
        "id": "u6jrdu1E66cG",
        "colab_type": "code",
        "colab": {}
      },
      "cell_type": "code",
      "source": [
        "import numpy as np"
      ],
      "execution_count": 0,
      "outputs": []
    },
    {
      "metadata": {
        "id": "tYoTp9Kd68Ve",
        "colab_type": "text"
      },
      "cell_type": "markdown",
      "source": [
        "This exercise builds on the same ideas covered in the last one, so feel free to reuse any functions. Today we'll start by defining a function that takes\n",
        "in a number of dimensions (call it n) and spits out a random vector n-dimensional vector. Each component of the vector should be randomly pulled from a\n",
        "normal distribution with mean 0 and standard deviation 1."
      ]
    },
    {
      "metadata": {
        "id": "pXsYTfd57U5t",
        "colab_type": "code",
        "colab": {}
      },
      "cell_type": "code",
      "source": [
        "# Function that generates a n-dimensional vector from a normal distribution"
      ],
      "execution_count": 0,
      "outputs": []
    },
    {
      "metadata": {
        "id": "RESYm02W7-Mb",
        "colab_type": "text"
      },
      "cell_type": "markdown",
      "source": [
        "Now generate a list of 50 vectors in 50-dimensional space. Call the list vec_list."
      ]
    },
    {
      "metadata": {
        "id": "AnH-IvFH7ktm",
        "colab_type": "code",
        "colab": {}
      },
      "cell_type": "code",
      "source": [
        "# vec_list = 50 vectors in 50 dimensional space"
      ],
      "execution_count": 0,
      "outputs": []
    },
    {
      "metadata": {
        "id": "KaNEauf48DzW",
        "colab_type": "text"
      },
      "cell_type": "markdown",
      "source": [
        "To every two vectors v1 and v2, recall how we calculate the distance bewteen v1 and v2. With that in mind, find the two\n",
        "vectors closest to one another and print the distance between them. Hint: the answer isn't zero. \n",
        "\n",
        "[Closest pair of points problem](https://en.wikipedia.org/wiki/Closest_pair_of_points_problem)"
      ]
    },
    {
      "metadata": {
        "id": "pQQL9mUZ78yP",
        "colab_type": "code",
        "colab": {}
      },
      "cell_type": "code",
      "source": [
        "# Implementation of Closest Pair of Points algorithm"
      ],
      "execution_count": 0,
      "outputs": []
    },
    {
      "metadata": {
        "id": "fOtd__ax9R4D",
        "colab_type": "text"
      },
      "cell_type": "markdown",
      "source": [
        "Now find the two vectors furthest from one another."
      ]
    },
    {
      "metadata": {
        "id": "taeU63sy8VSJ",
        "colab_type": "code",
        "colab": {}
      },
      "cell_type": "code",
      "source": [
        "# Inversion of Closest Pair of Points algorithm"
      ],
      "execution_count": 0,
      "outputs": []
    }
  ]
}