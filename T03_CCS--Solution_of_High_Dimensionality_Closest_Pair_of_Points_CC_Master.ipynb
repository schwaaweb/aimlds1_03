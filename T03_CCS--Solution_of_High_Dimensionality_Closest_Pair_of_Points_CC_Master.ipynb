{
  "nbformat": 4,
  "nbformat_minor": 0,
  "metadata": {
    "colab": {
      "name": "Solution of High Dimensionality Closest Pair of Points CC - Master.ipynb",
      "version": "0.3.2",
      "provenance": [],
      "collapsed_sections": []
    },
    "kernelspec": {
      "name": "python3",
      "display_name": "Python 3"
    }
  },
  "cells": [
    {
      "cell_type": "markdown",
      "metadata": {
        "id": "view-in-github",
        "colab_type": "text"
      },
      "source": [
        "[View in Colaboratory](https://colab.research.google.com/github/schwaaweb/aimlds1_03/blob/master/T03_CCS--Solution_of_High_Dimensionality_Closest_Pair_of_Points_CC_Master.ipynb)"
      ]
    },
    {
      "metadata": {
        "id": "ZgPDaAZ-3YVy",
        "colab_type": "text"
      },
      "cell_type": "markdown",
      "source": [
        "# Closest Pair of Points Coding Challenge"
      ]
    },
    {
      "metadata": {
        "id": "u6jrdu1E66cG",
        "colab_type": "code",
        "colab": {}
      },
      "cell_type": "code",
      "source": [
        "import numpy as np"
      ],
      "execution_count": 0,
      "outputs": []
    },
    {
      "metadata": {
        "id": "tYoTp9Kd68Ve",
        "colab_type": "text"
      },
      "cell_type": "markdown",
      "source": [
        "This exercise builds on the same ideas covered in the last one, so feel free to reuse any functions. Today we'll start by defining a function that takes\n",
        "in a number of dimensions (call it n) and spits out a random vector n-dimensional vector. Each component of the vector should be randomly pulled from a\n",
        "normal distribution with mean 0 and standard deviation 1."
      ]
    },
    {
      "metadata": {
        "id": "pXsYTfd57U5t",
        "colab_type": "code",
        "colab": {}
      },
      "cell_type": "code",
      "source": [
        "# Function that generates a n-dimensional vector from a normal distribution\n",
        "def get_vec(mean,stddev):\n",
        "    return np.random.normal(mean,stddev,1)"
      ],
      "execution_count": 0,
      "outputs": []
    },
    {
      "metadata": {
        "id": "RESYm02W7-Mb",
        "colab_type": "text"
      },
      "cell_type": "markdown",
      "source": [
        "Now generate a list of 50 vectors in 50-dimensional space. Call the list vec_list."
      ]
    },
    {
      "metadata": {
        "id": "AnH-IvFH7ktm",
        "colab_type": "code",
        "colab": {}
      },
      "cell_type": "code",
      "source": [
        "# vec_list = 50 vectors in 50 dimensional space\n",
        "point_50d = np.random.normal(0,1,50)\n",
        "\n",
        "# multivariate normal library in 2d:\n",
        "points_2d = np.random.multivariate_normal([0,0],[[1,0],[0,1]],50)\n",
        "\n",
        "points_50d = np.random.multivariate_normal(np.zeros(50),np.identity(50),50)"
      ],
      "execution_count": 0,
      "outputs": []
    },
    {
      "metadata": {
        "id": "KaNEauf48DzW",
        "colab_type": "text"
      },
      "cell_type": "markdown",
      "source": [
        "To every two vectors v1 and v2, recall how we calculate the distance bewteen v1 and v2. With that in mind, find the two\n",
        "vectors closest to one another and print the distance between them. Hint: the answer isn't zero. \n",
        "\n",
        "[Closest pair of points problem](https://en.wikipedia.org/wiki/Closest_pair_of_points_problem)"
      ]
    },
    {
      "metadata": {
        "id": "pQQL9mUZ78yP",
        "colab_type": "code",
        "colab": {}
      },
      "cell_type": "code",
      "source": [
        "# Implementation of Closest Pair of Points algorithm\n",
        "def compute_closest_pair(set_of_points):\n",
        "    minimum_distance = np.inf; #infinity as a \"number\"\n",
        "    best_points = [-1,-1]\n",
        "    for i in range(set_of_points.shape[0]):\n",
        "        for j in range(i+1,set_of_points.shape[0]):\n",
        "            dist = np.linalg.norm(set_of_points[i] - set_of_points[j])\n",
        "            #print(i,j,dist)\n",
        "            if(dist < minimum_distance):\n",
        "                minimum_distance = dist\n",
        "                best_points = np.array([set_of_points[i],set_of_points[j]])\n",
        "    return minimum_distance, best_points"
      ],
      "execution_count": 0,
      "outputs": []
    },
    {
      "metadata": {
        "id": "nZaRZ7eKZint",
        "colab_type": "code",
        "colab": {
          "base_uri": "https://localhost:8080/",
          "height": 103
        },
        "outputId": "70d0a9e4-0d25-473b-8f52-5858da18eb0d"
      },
      "cell_type": "code",
      "source": [
        "print(points_2d.shape)\n",
        "distance, best_points = compute_closest_pair(points_2d)\n",
        "print('shortest pair:',distance)\n",
        "print('pair', best_points)\n",
        "print(best_points[0],best_points[1])"
      ],
      "execution_count": 42,
      "outputs": [
        {
          "output_type": "stream",
          "text": [
            "(50, 2)\n",
            "shortest pair: 0.09474987783241023\n",
            "pair [[ 0.15366806 -0.60186199]\n",
            " [ 0.24719993 -0.6170056 ]]\n",
            "[ 0.15366806 -0.60186199] [ 0.24719993 -0.6170056 ]\n"
          ],
          "name": "stdout"
        }
      ]
    },
    {
      "metadata": {
        "id": "eZNmC1qCaUY4",
        "colab_type": "code",
        "colab": {
          "base_uri": "https://localhost:8080/",
          "height": 381
        },
        "outputId": "c679a8e9-8664-43a7-b12d-cd3520585342"
      },
      "cell_type": "code",
      "source": [
        "import matplotlib.pyplot as plt\n",
        "plt.plot(points_2d[::,0:1:],points_2d[::,1:2:],'o')\n",
        "\n",
        "# Here: Better make sure that we separate these points into x and y pairs\n",
        "x,y = best_points.T\n",
        "print(x,y)\n",
        "plt.plot(x,y,'or')"
      ],
      "execution_count": 43,
      "outputs": [
        {
          "output_type": "stream",
          "text": [
            "[0.15366806 0.24719993] [-0.60186199 -0.6170056 ]\n"
          ],
          "name": "stdout"
        },
        {
          "output_type": "execute_result",
          "data": {
            "text/plain": [
              "[<matplotlib.lines.Line2D at 0x7fe5a1b81470>]"
            ]
          },
          "metadata": {
            "tags": []
          },
          "execution_count": 43
        },
        {
          "output_type": "display_data",
          "data": {
            "image/png": "[encoded data removed]",
            "text/plain": [
              "<matplotlib.figure.Figure at 0x7fe5a1b81080>"
            ]
          },
          "metadata": {
            "tags": []
          }
        }
      ]
    },
    {
      "metadata": {
        "id": "J6A0hILWd7QG",
        "colab_type": "text"
      },
      "cell_type": "markdown",
      "source": [
        "# The 3d case: Literally the most fun visualization a human can perceive.\n",
        "\n",
        "_Unless, like Mat Calkins, you studied high dimensional abstract algebra for many many hours_"
      ]
    },
    {
      "metadata": {
        "id": "HOBQdAVVfgyf",
        "colab_type": "code",
        "colab": {}
      },
      "cell_type": "code",
      "source": [
        "points_3d = np.random.multivariate_normal(np.zeros(3),np.identity(3),10)"
      ],
      "execution_count": 0,
      "outputs": []
    },
    {
      "metadata": {
        "id": "d_XWVBuleEqk",
        "colab_type": "code",
        "colab": {
          "base_uri": "https://localhost:8080/",
          "height": 381
        },
        "outputId": "76aae26c-3dea-4f32-a728-5e2f92c71e0e"
      },
      "cell_type": "code",
      "source": [
        "import matplotlib.pyplot as plt\n",
        "from mpl_toolkits.mplot3d import Axes3D\n",
        "\n",
        "fig = plt.figure()\n",
        "ax = fig.add_subplot(111, projection='3d')\n",
        "\n",
        "X1, Y1, Z1 = points_3d.T\n",
        "\n",
        "scatter1 = ax.scatter(X1, Y1, Z1, marker = 'o', alpha=1.0)\n",
        "\n",
        "distance, best_points = compute_closest_pair(points_3d)\n",
        "\n",
        "bx, by, bz = best_points.T\n",
        "print('distance', distance)\n",
        "print('best_points', best_points)\n",
        "\n",
        "scatter2 = ax.scatter(bx, by, bz, color = 'red', marker = 'o', s=500, alpha=1.0)\n"
      ],
      "execution_count": 71,
      "outputs": [
        {
          "output_type": "stream",
          "text": [
            "distance 0.550104225089912\n",
            "best_points [[-0.88360158 -0.70788025  1.35941638]\n",
            " [-0.52426213 -0.62991323  0.95025753]]\n"
          ],
          "name": "stdout"
        },
        {
          "output_type": "display_data",
          "data": {
            "image/png": "[encoded data removed]",
            "text/plain": [
              "<matplotlib.figure.Figure at 0x7fe5a18a9a90>"
            ]
          },
          "metadata": {
            "tags": []
          }
        }
      ]
    },
    {
      "metadata": {
        "id": "fOtd__ax9R4D",
        "colab_type": "text"
      },
      "cell_type": "markdown",
      "source": [
        "Now find the two vectors furthest from one another."
      ]
    },
    {
      "metadata": {
        "id": "taeU63sy8VSJ",
        "colab_type": "code",
        "colab": {}
      },
      "cell_type": "code",
      "source": [
        "# Inversion of Closest Pair of Points algorithm"
      ],
      "execution_count": 0,
      "outputs": []
    }
  ]
}