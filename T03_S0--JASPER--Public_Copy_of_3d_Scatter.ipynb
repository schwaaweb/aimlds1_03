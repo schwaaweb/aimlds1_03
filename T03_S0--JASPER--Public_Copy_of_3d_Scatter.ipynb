{
  "nbformat": 4,
  "nbformat_minor": 0,
  "metadata": {
    "colab": {
      "name": "Public Copy of 3d Scatter.ipynb",
      "version": "0.3.2",
      "provenance": [],
      "private_outputs": true,
      "collapsed_sections": []
    },
    "kernelspec": {
      "name": "python3",
      "display_name": "Python 3"
    }
  },
  "cells": [
    {
      "cell_type": "markdown",
      "metadata": {
        "id": "view-in-github",
        "colab_type": "text"
      },
      "source": [
        "[View in Colaboratory](https://colab.research.google.com/github/schwaaweb/aimlds1_03/blob/master/T03_S0--JASPER--Public_Copy_of_3d_Scatter.ipynb)"
      ]
    },
    {
      "metadata": {
        "id": "m5Va5C9ByF63",
        "colab_type": "code",
        "colab": {}
      },
      "cell_type": "code",
      "source": [
        "import IPython\n",
        "import numpy as np\n",
        "import plotly.graph_objs as go\n",
        "from plotly.offline import download_plotlyjs, init_notebook_mode, iplot\n",
        "\n",
        "def configure_plotly_browser_state():\n",
        "  display(IPython.core.display.HTML('''\n",
        "        <script src=\"/static/components/requirejs/require.js\"></script>\n",
        "        <script>\n",
        "          requirejs.config({\n",
        "            paths: {\n",
        "              base: '/static/base',\n",
        "              plotly: 'https://cdn.plot.ly/plotly-1.5.1.min.js?noext',\n",
        "            },\n",
        "          });\n",
        "        </script>\n",
        "        '''))\n",
        "\n",
        "configure_plotly_browser_state()\n",
        "init_notebook_mode(connected=False)\n",
        "\n",
        "x, y, z = np.random.multivariate_normal(np.array([0,0,0]), np.eye(3), 300).transpose()\n",
        "trace1 = go.Scatter3d(\n",
        "    x=x,\n",
        "    y=y,\n",
        "    z=z,\n",
        "    mode='markers',\n",
        "    marker=dict(\n",
        "        color='rgb(38, 200, 150)',\n",
        "        size=3,\n",
        "        opacity=0.9\n",
        "    )\n",
        ")\n",
        "\n",
        "x, y, z = np.random.multivariate_normal(np.array([3,1,1]), np.eye(3), 300).transpose()\n",
        "trace2 = go.Scatter3d(\n",
        "    x=x,\n",
        "    y=y,\n",
        "    z=z,\n",
        "    mode='markers',\n",
        "    marker=dict(\n",
        "        color='rgb(200, 20, 20)',\n",
        "        size=3,\n",
        "        opacity=0.9\n",
        "    )\n",
        ")\n",
        "\n",
        "fig = go.Figure(data=[trace1, trace2])\n",
        "iplot(fig)"
      ],
      "execution_count": 0,
      "outputs": []
    },
    {
      "metadata": {
        "id": "g0Yy10HI6NoN",
        "colab_type": "code",
        "colab": {}
      },
      "cell_type": "code",
      "source": [
        ""
      ],
      "execution_count": 0,
      "outputs": []
    }
  ]
}